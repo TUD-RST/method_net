{
 "cells": [
  {
   "cell_type": "code",
   "execution_count": null,
   "metadata": {},
   "outputs": [],
   "source": []
  },
  {
   "cell_type": "code",
   "execution_count": 1,
   "metadata": {},
   "outputs": [
    {
     "name": "stderr",
     "output_type": "stream",
     "text": [
      "* Owlready2 * Warning: optimized Cython parser module 'owlready2_optimized' is not available, defaulting to slower Python implementation\n"
     ]
    }
   ],
   "source": [
    "import owlready2 as owl2\n",
    "import yamlpyowl as ypo"
   ]
  },
  {
   "cell_type": "code",
   "execution_count": 2,
   "metadata": {},
   "outputs": [],
   "source": [
    "onto_path = \"mn-onto.owl.yml\"\n",
    "om = ypo.OntologyManager(onto_path)"
   ]
  },
  {
   "cell_type": "code",
   "execution_count": 3,
   "metadata": {},
   "outputs": [],
   "source": [
    "query = f\"\"\"\n",
    "PREFIX P: <{om.iri}>\n",
    "SELECT ?x WHERE {{\n",
    "?x P:hasForInput P:iMN_SSLTI.\n",
    "}}\n",
    "\"\"\""
   ]
  },
  {
   "cell_type": "code",
   "execution_count": 4,
   "metadata": {},
   "outputs": [
    {
     "data": {
      "text/plain": [
       "{<MethodEntity 'iMN_LuenbergerEntwurf'>,\n",
       " <MethodEntity 'iMN_Polplatzierung'>,\n",
       " <MethodEntity 'iMN_SSzuÜTF'>,\n",
       " <MethodEntity 'iMN_TesteBeobachtbarkeitLTI'>,\n",
       " <MethodEntity 'iMN_TesteSteuerbarkeitLTI'>,\n",
       " <MethodEntity 'iMN_ZuBeobachtungsnormalform'>,\n",
       " <MethodEntity 'iMN_ZuRegelungsnormalform'>}"
      ]
     },
     "execution_count": 4,
     "metadata": {},
     "output_type": "execute_result"
    }
   ],
   "source": [
    "om.make_query(query)"
   ]
  },
  {
   "cell_type": "code",
   "execution_count": null,
   "metadata": {},
   "outputs": [],
   "source": []
  }
 ],
 "metadata": {
  "kernelspec": {
   "display_name": "Python 3",
   "language": "python",
   "name": "python3"
  },
  "language_info": {
   "codemirror_mode": {
    "name": "ipython",
    "version": 3
   },
   "file_extension": ".py",
   "mimetype": "text/x-python",
   "name": "python",
   "nbconvert_exporter": "python",
   "pygments_lexer": "ipython3",
   "version": "3.8.6"
  }
 },
 "nbformat": 4,
 "nbformat_minor": 4
}
