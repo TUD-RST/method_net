{
 "cells": [
  {
   "cell_type": "markdown",
   "metadata": {},
   "source": [
    "This notebook demonstrates how to apply [SPARQL](https://en.wikipedia.org/wiki/SPARQL) queries to the automatically generated ontology of the *control engineering method network*."
   ]
  },
  {
   "cell_type": "code",
   "execution_count": 1,
   "metadata": {},
   "outputs": [],
   "source": [
    "import owlready2 as owl2\n",
    "import yamlpyowl as ypo"
   ]
  },
  {
   "cell_type": "code",
   "execution_count": 3,
   "metadata": {},
   "outputs": [],
   "source": [
    "onto_path = \"mn-onto.owl.yml\"\n",
    "om = ypo.OntologyManager(onto_path)"
   ]
  },
  {
   "cell_type": "code",
   "execution_count": 6,
   "metadata": {},
   "outputs": [],
   "source": [
    "query = f\"\"\"\n",
    "PREFIX P: <{om.iri}>\n",
    "SELECT ?x WHERE {{\n",
    "?x P:hasForInput P:i_SSLTI.\n",
    "}}\n",
    "\"\"\""
   ]
  },
  {
   "cell_type": "code",
   "execution_count": 7,
   "metadata": {},
   "outputs": [
    {
     "data": {
      "text/plain": [
       "{<MethodEntity 'i_LuenbergerEntwurf'>,\n",
       " <MethodEntity 'i_Polplatzierung'>,\n",
       " <MethodEntity 'i_SSzuÜTF'>,\n",
       " <MethodEntity 'i_TesteBeobachtbarkeitLTI'>,\n",
       " <MethodEntity 'i_TesteSteuerbarkeitLTI'>,\n",
       " <MethodEntity 'i_ZuBeobachtungsnormalform'>,\n",
       " <MethodEntity 'i_ZuRegelungsnormalform'>}"
      ]
     },
     "execution_count": 7,
     "metadata": {},
     "output_type": "execute_result"
    }
   ],
   "source": [
    "om.make_query(query)"
   ]
  }
 ],
 "metadata": {
  "kernelspec": {
   "display_name": "Python 3",
   "language": "python",
   "name": "python3"
  },
  "language_info": {
   "codemirror_mode": {
    "name": "ipython",
    "version": 3
   },
   "file_extension": ".py",
   "mimetype": "text/x-python",
   "name": "python",
   "nbconvert_exporter": "python",
   "pygments_lexer": "ipython3",
   "version": "3.8.6"
  }
 },
 "nbformat": 4,
 "nbformat_minor": 4
}
