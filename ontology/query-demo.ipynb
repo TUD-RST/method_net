{
 "cells": [
  {
   "cell_type": "markdown",
   "metadata": {},
   "source": [
    "This notebook demonstrates how to apply [SPARQL](https://en.wikipedia.org/wiki/SPARQL) queries to the automatically generated ontology of the *control engineering method network*."
   ]
  },
  {
   "cell_type": "code",
   "execution_count": 1,
   "metadata": {},
   "outputs": [],
   "source": [
    "%config InteractiveShell.ast_node_interactivity='last_expr_or_assign'"
   ]
  },
  {
   "cell_type": "code",
   "execution_count": 2,
   "metadata": {},
   "outputs": [],
   "source": [
    "import owlready2 as owl2\n",
    "import yamlpyowl as ypo"
   ]
  },
  {
   "cell_type": "code",
   "execution_count": 3,
   "metadata": {},
   "outputs": [
    {
     "data": {
      "text/plain": [
       "<yamlpyowl.core.OntologyManager at 0x7fc8b48f1a90>"
      ]
     },
     "execution_count": 3,
     "metadata": {},
     "output_type": "execute_result"
    }
   ],
   "source": [
    "onto_path = \"orm_draft.owl.yml\"\n",
    "om = ypo.OntologyManager(onto_path)"
   ]
  },
  {
   "cell_type": "code",
   "execution_count": 4,
   "metadata": {},
   "outputs": [
    {
     "name": "stdout",
     "output_type": "stream",
     "text": [
      "\n",
      "PREFIX P: <https://w3id.org/yet/undefined/orm_draft#>\n",
      "SELECT ?x WHERE {\n",
      "    ?x P:hasForInput P:i_SSLTI.\n",
      "}\n",
      "\n"
     ]
    }
   ],
   "source": [
    "query = f\"\"\"\n",
    "PREFIX P: <{om.iri}>\n",
    "SELECT ?x WHERE {{\n",
    "    ?x P:hasForInput P:i_SSLTI.\n",
    "}}\n",
    "\"\"\"\n",
    "\n",
    "print(query)"
   ]
  },
  {
   "cell_type": "code",
   "execution_count": 5,
   "metadata": {},
   "outputs": [
    {
     "data": {
      "text/plain": [
       "[<MethodEntity 'i_SSLTIZuNichtlinear'>,\n",
       " <MethodEntity 'i_TesteBeobachtbarkeitLTI'>,\n",
       " <MethodEntity 'i_Polplatzierung'>,\n",
       " <MethodEntity 'i_TesteSteuerbarkeitLTI'>,\n",
       " <MethodEntity 'i_ZuRegelungsnormalform'>,\n",
       " <MethodEntity 'i_BaueLuenbergerBeobachter'>,\n",
       " <MethodEntity 'i_LuenbergerEntwurf'>,\n",
       " <MethodEntity 'i_LTILQREntwurf'>,\n",
       " <MethodEntity 'i_SSzuÜTF'>,\n",
       " <MethodEntity 'i_ZuBeobachtungsnormalform'>]"
      ]
     },
     "execution_count": 5,
     "metadata": {},
     "output_type": "execute_result"
    }
   ],
   "source": [
    "res = list(om.make_query(query))"
   ]
  },
  {
   "cell_type": "code",
   "execution_count": 6,
   "metadata": {},
   "outputs": [
    {
     "data": {
      "text/plain": [
       "<MethodEntity 'i_SSLTIZuNichtlinear'>"
      ]
     },
     "execution_count": 6,
     "metadata": {},
     "output_type": "execute_result"
    }
   ],
   "source": [
    "pp = res[0]"
   ]
  }
 ],
 "metadata": {
  "kernelspec": {
   "display_name": "Python 3",
   "language": "python",
   "name": "python3"
  },
  "language_info": {
   "codemirror_mode": {
    "name": "ipython",
    "version": 3
   },
   "file_extension": ".py",
   "mimetype": "text/x-python",
   "name": "python",
   "nbconvert_exporter": "python",
   "pygments_lexer": "ipython3",
   "version": "3.8.6"
  }
 },
 "nbformat": 4,
 "nbformat_minor": 4
}
